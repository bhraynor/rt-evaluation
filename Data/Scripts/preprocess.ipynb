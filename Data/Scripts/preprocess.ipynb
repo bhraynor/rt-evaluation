{
 "cells": [
  {
   "cell_type": "code",
   "execution_count": null,
   "metadata": {},
   "outputs": [],
   "source": [
    "# Import needed librearies\n",
    "import pandas as pd\n",
    "\n",
    "california_df = pd.read_csv('Data/GLEAM/Massachusetts_line_list.csv')\n",
    "print(california_df.head())\n",
    "\n",
    "# Create a dictionary to store the number of people in each location with the same reference date and report date\n",
    "\n",
    "dict = {}\n",
    "for i, row in california_df.iterrows():\n",
    "    key = (row['hospitalization_date'], row['reporting_date'], row['county_full_name'])\n",
    "    dict[key] = dict.get(key, 0) + 1\n",
    "\n",
    "# Create df from dictionary columns = 'reference_date', 'report_date', 'location', 'count'\n",
    "keys = dict.keys()\n",
    "\n",
    "reference_date = []\n",
    "report_date = []\n",
    "location = []\n",
    "count = []\n",
    "\n",
    "for key in keys:\n",
    "    reference_date.append(key[0])\n",
    "    report_date.append(key[1])\n",
    "    location.append(key[2])\n",
    "    count.append(dict[key])\n",
    "\n",
    "\n",
    "df_final = pd.DataFrame({'reference_date': reference_date, 'report_date': report_date, 'location': location, 'count': count})\n",
    "print(df_final.head())"
   ]
  },
  {
   "cell_type": "code",
   "execution_count": null,
   "metadata": {},
   "outputs": [],
   "source": []
  }
 ],
 "metadata": {
  "kernelspec": {
   "display_name": "base",
   "language": "python",
   "name": "python3"
  },
  "language_info": {
   "codemirror_mode": {
    "name": "ipython",
    "version": 3
   },
   "file_extension": ".py",
   "mimetype": "text/x-python",
   "name": "python",
   "nbconvert_exporter": "python",
   "pygments_lexer": "ipython3",
   "version": "3.9.13"
  }
 },
 "nbformat": 4,
 "nbformat_minor": 2
}
